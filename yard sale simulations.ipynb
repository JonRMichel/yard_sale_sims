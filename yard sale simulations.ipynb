{
 "cells": [
  {
   "cell_type": "code",
   "execution_count": 3,
   "metadata": {},
   "outputs": [],
   "source": [
    "import numpy as np\n",
    "import pandas as pd\n",
    "import matplotlib.pyplot as plt"
   ]
  },
  {
   "cell_type": "code",
   "execution_count": 15,
   "metadata": {},
   "outputs": [],
   "source": [
    "def gini(x):\n",
    "    # (Warning: This is a concise implementation, but it is O(n**2)\n",
    "    # in time and memory, where n = len(x).  *Don't* pass in huge\n",
    "    # samples!)\n",
    "\n",
    "    # Mean absolute difference\n",
    "    mad = np.abs(np.subtract.outer(x, x)).mean()\n",
    "    # Relative mean absolute difference\n",
    "    rmad = mad/np.mean(x)\n",
    "    # Gini coefficient\n",
    "    g = 0.5 * rmad\n",
    "    return g\n",
    "\n",
    "def shap_cobb_doug(theta,bet0,bet1):\n",
    "    return .5*(bet0+bet1)**theta+.5*bet0**theta-.5*bet1**theta"
   ]
  },
  {
   "cell_type": "code",
   "execution_count": 17,
   "metadata": {},
   "outputs": [],
   "source": [
    "def yard_sale(sample_size,beta,sample_length):\n",
    "    wealth = sample_size*[1]\n",
    "\n",
    "    for _ in range(0,sample_length):\n",
    "        selected = np.random.randint(0,sample_size,2)\n",
    "        prize = beta*min(wealth[selected[0]], wealth[selected[1]])\n",
    "\n",
    "        winner = np.random.randint(0,2)\n",
    "        loser = (winner+1) % 2\n",
    "\n",
    "        wealth[selected[winner]] = wealth[selected[winner]] + prize\n",
    "        wealth[selected[loser]] = wealth[selected[loser]] - prize\n",
    "\n",
    "    return wealth\n",
    "\n",
    "def shap_sale(sample_size,theta,sample_length):\n",
    "    wealth = sample_size*[1]\n",
    "\n",
    "    for _ in range(0,sample_length):\n",
    "        selected = np.random.randint(0,sample_size,2)\n",
    "        prize_0 = shap_cobb_doug(theta, wealth[selected[0]], wealth[selected[1]])\n",
    "        prize_1 = shap_cobb_doug(theta, wealth[selected[1]], wealth[selected[0]])\n",
    "\n",
    "        wealth[selected[0]] = wealth[selected[0]] + prize_0\n",
    "        wealth[selected[1]] = wealth[selected[1]] + prize_1\n",
    "\n",
    "    return wealth\n"
   ]
  },
  {
   "cell_type": "code",
   "execution_count": 22,
   "metadata": {},
   "outputs": [
    {
     "name": "stdout",
     "output_type": "stream",
     "text": [
      "0.9508659869240759\n"
     ]
    },
    {
     "data": {
      "text/plain": [
       "array([[<matplotlib.axes._subplots.AxesSubplot object at 0x00000163452A58E0>]],\n",
       "      dtype=object)"
      ]
     },
     "execution_count": 22,
     "metadata": {},
     "output_type": "execute_result"
    },
    {
     "data": {
      "image/png": "[encoded data removed]",
      "text/plain": [
       "<Figure size 432x288 with 1 Axes>"
      ]
     },
     "metadata": {
      "needs_background": "light"
     },
     "output_type": "display_data"
    }
   ],
   "source": [
    "sims = yard_sale(1000,.5,100000)\n",
    "print(gini(sims))\n",
    "pd.DataFrame(sims).hist()"
   ]
  },
  {
   "cell_type": "code",
   "execution_count": 23,
   "metadata": {},
   "outputs": [
    {
     "name": "stdout",
     "output_type": "stream",
     "text": [
      "0.09640732714212306\n"
     ]
    },
    {
     "data": {
      "text/plain": [
       "array([[<matplotlib.axes._subplots.AxesSubplot object at 0x000001634412DE50>]],\n",
       "      dtype=object)"
      ]
     },
     "execution_count": 23,
     "metadata": {},
     "output_type": "execute_result"
    },
    {
     "data": {
      "image/png": "[encoded data removed]",
      "text/plain": [
       "<Figure size 432x288 with 1 Axes>"
      ]
     },
     "metadata": {
      "needs_background": "light"
     },
     "output_type": "display_data"
    }
   ],
   "source": [
    "sims = shap_sale(1000,.5,100000)\n",
    "print(gini(sims))\n",
    "pd.DataFrame(sims).hist()"
   ]
  },
  {
   "cell_type": "code",
   "execution_count": null,
   "metadata": {},
   "outputs": [],
   "source": []
  }
 ],
 "metadata": {
  "kernelspec": {
   "display_name": "Python 3",
   "language": "python",
   "name": "python3"
  },
  "language_info": {
   "codemirror_mode": {
    "name": "ipython",
    "version": 3
   },
   "file_extension": ".py",
   "mimetype": "text/x-python",
   "name": "python",
   "nbconvert_exporter": "python",
   "pygments_lexer": "ipython3",
   "version": "3.8.3"
  }
 },
 "nbformat": 4,
 "nbformat_minor": 4
}
